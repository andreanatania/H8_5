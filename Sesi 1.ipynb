{
 "cells": [
  {
   "cell_type": "code",
   "execution_count": 1,
   "id": "12b85fc9",
   "metadata": {},
   "outputs": [
    {
     "name": "stdout",
     "output_type": "stream",
     "text": [
      "10\n",
      "<class 'int'>\n"
     ]
    }
   ],
   "source": [
    "print(10)\n",
    "print(type(10))"
   ]
  },
  {
   "cell_type": "code",
   "execution_count": 2,
   "id": "bea972b4",
   "metadata": {},
   "outputs": [
    {
     "name": "stdout",
     "output_type": "stream",
     "text": [
      "4.2\n",
      "<class 'float'>\n"
     ]
    }
   ],
   "source": [
    "print(4.2)\n",
    "print(type(4.2))"
   ]
  },
  {
   "cell_type": "code",
   "execution_count": 3,
   "id": "c71962fc",
   "metadata": {},
   "outputs": [
    {
     "name": "stdout",
     "output_type": "stream",
     "text": [
      "Hactiv8\n",
      "<class 'str'>\n"
     ]
    }
   ],
   "source": [
    "print('Hactiv8')\n",
    "print(type('Hactiv8'))"
   ]
  },
  {
   "cell_type": "code",
   "execution_count": 4,
   "id": "d917e317",
   "metadata": {},
   "outputs": [
    {
     "name": "stdout",
     "output_type": "stream",
     "text": [
      "This string contains a single quote (') character.\n",
      "This string contains a single quote (\") character.\n"
     ]
    }
   ],
   "source": [
    "print(\"This string contains a single quote (') character.\")\n",
    "print('This string contains a single quote (\") character.')"
   ]
  },
  {
   "cell_type": "code",
   "execution_count": 5,
   "id": "f1694032",
   "metadata": {},
   "outputs": [
    {
     "name": "stdout",
     "output_type": "stream",
     "text": [
      "<class 'bool'>\n",
      "<class 'bool'>\n"
     ]
    }
   ],
   "source": [
    "print(type(True))\n",
    "print(type(False))"
   ]
  },
  {
   "cell_type": "code",
   "execution_count": 6,
   "id": "1e0fe0f5",
   "metadata": {},
   "outputs": [
    {
     "name": "stdout",
     "output_type": "stream",
     "text": [
      "300\n"
     ]
    }
   ],
   "source": [
    "n=300\n",
    "print(n)"
   ]
  },
  {
   "cell_type": "code",
   "execution_count": 7,
   "id": "3fa8de40",
   "metadata": {},
   "outputs": [
    {
     "data": {
      "text/plain": [
       "300"
      ]
     },
     "execution_count": 7,
     "metadata": {},
     "output_type": "execute_result"
    }
   ],
   "source": [
    "n"
   ]
  },
  {
   "cell_type": "code",
   "execution_count": 8,
   "id": "9e746ea4",
   "metadata": {},
   "outputs": [
    {
     "name": "stdout",
     "output_type": "stream",
     "text": [
      "300 300 300\n"
     ]
    }
   ],
   "source": [
    "a=b=c=300\n",
    "print(a,b,c)"
   ]
  },
  {
   "cell_type": "code",
   "execution_count": 9,
   "id": "c0ead865",
   "metadata": {},
   "outputs": [
    {
     "data": {
      "text/plain": [
       "(300, 300, 300)"
      ]
     },
     "execution_count": 9,
     "metadata": {},
     "output_type": "execute_result"
    }
   ],
   "source": [
    "a,b,c"
   ]
  },
  {
   "cell_type": "code",
   "execution_count": 11,
   "id": "5191b617",
   "metadata": {},
   "outputs": [
    {
     "name": "stdout",
     "output_type": "stream",
     "text": [
      "<class 'int'> <class 'int'> <class 'int'>\n"
     ]
    }
   ],
   "source": [
    "print(type(a), type(b), type(c))"
   ]
  },
  {
   "cell_type": "code",
   "execution_count": null,
   "id": "cd6ad1c3",
   "metadata": {},
   "outputs": [],
   "source": []
  }
 ],
 "metadata": {
  "kernelspec": {
   "display_name": "Python 3 (ipykernel)",
   "language": "python",
   "name": "python3"
  },
  "language_info": {
   "codemirror_mode": {
    "name": "ipython",
    "version": 3
   },
   "file_extension": ".py",
   "mimetype": "text/x-python",
   "name": "python",
   "nbconvert_exporter": "python",
   "pygments_lexer": "ipython3",
   "version": "3.9.16"
  }
 },
 "nbformat": 4,
 "nbformat_minor": 5
}
