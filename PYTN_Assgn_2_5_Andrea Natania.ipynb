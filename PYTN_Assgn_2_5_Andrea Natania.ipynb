{
 "cells": [
  {
   "cell_type": "markdown",
   "id": "5b63c017",
   "metadata": {},
   "source": [
    "**Andrea Natania - PYTN-KS17-04**"
   ]
  },
  {
   "cell_type": "markdown",
   "id": "539030ec",
   "metadata": {},
   "source": [
    "# Import Packages"
   ]
  },
  {
   "cell_type": "code",
   "execution_count": 1,
   "id": "e89f28d9",
   "metadata": {},
   "outputs": [],
   "source": [
    "import pandas as pd\n",
    "from matplotlib import pyplot as plt\n",
    "import seaborn as sns\n",
    "import numpy as np\n",
    "import statistics\n",
    "from scipy.stats import friedmanchisquare\n",
    "\n",
    "pd.set_option('display.max_columns', None)\n",
    "%matplotlib inline\n",
    "sns.set(style='darkgrid')\n",
    "params = {'font.family': 'Times New Roman', 'axes.labelsize': 12, 'xtick.labelsize': 12, \n",
    "          'ytick.labelsize': 12, 'axes.labelweight': 'bold'}\n",
    "plt.rcParams.update(params)"
   ]
  },
  {
   "cell_type": "markdown",
   "id": "69ab5a11",
   "metadata": {},
   "source": [
    "# Import Dataset"
   ]
  },
  {
   "cell_type": "code",
   "execution_count": 2,
   "id": "4455c488",
   "metadata": {},
   "outputs": [
    {
     "data": {
      "text/html": [
       "<div>\n",
       "<style scoped>\n",
       "    .dataframe tbody tr th:only-of-type {\n",
       "        vertical-align: middle;\n",
       "    }\n",
       "\n",
       "    .dataframe tbody tr th {\n",
       "        vertical-align: top;\n",
       "    }\n",
       "\n",
       "    .dataframe thead th {\n",
       "        text-align: right;\n",
       "    }\n",
       "</style>\n",
       "<table border=\"1\" class=\"dataframe\">\n",
       "  <thead>\n",
       "    <tr style=\"text-align: right;\">\n",
       "      <th></th>\n",
       "      <th>Unnamed: 0</th>\n",
       "      <th>BOROUGH</th>\n",
       "      <th>NEIGHBORHOOD</th>\n",
       "      <th>BUILDING CLASS CATEGORY</th>\n",
       "      <th>TAX CLASS AT PRESENT</th>\n",
       "      <th>BLOCK</th>\n",
       "      <th>LOT</th>\n",
       "      <th>EASE-MENT</th>\n",
       "      <th>BUILDING CLASS AT PRESENT</th>\n",
       "      <th>ADDRESS</th>\n",
       "      <th>APARTMENT NUMBER</th>\n",
       "      <th>ZIP CODE</th>\n",
       "      <th>RESIDENTIAL UNITS</th>\n",
       "      <th>COMMERCIAL UNITS</th>\n",
       "      <th>TOTAL UNITS</th>\n",
       "      <th>LAND SQUARE FEET</th>\n",
       "      <th>GROSS SQUARE FEET</th>\n",
       "      <th>YEAR BUILT</th>\n",
       "      <th>TAX CLASS AT TIME OF SALE</th>\n",
       "      <th>BUILDING CLASS AT TIME OF SALE</th>\n",
       "      <th>SALE PRICE</th>\n",
       "      <th>SALE DATE</th>\n",
       "    </tr>\n",
       "  </thead>\n",
       "  <tbody>\n",
       "    <tr>\n",
       "      <th>84543</th>\n",
       "      <td>8409</td>\n",
       "      <td>5</td>\n",
       "      <td>WOODROW</td>\n",
       "      <td>02 TWO FAMILY DWELLINGS</td>\n",
       "      <td>1</td>\n",
       "      <td>7349</td>\n",
       "      <td>34</td>\n",
       "      <td></td>\n",
       "      <td>B9</td>\n",
       "      <td>37 QUAIL LANE</td>\n",
       "      <td></td>\n",
       "      <td>10309</td>\n",
       "      <td>2</td>\n",
       "      <td>0</td>\n",
       "      <td>2</td>\n",
       "      <td>2400.0</td>\n",
       "      <td>2575.0</td>\n",
       "      <td>1998</td>\n",
       "      <td>1</td>\n",
       "      <td>B9</td>\n",
       "      <td>450000.0</td>\n",
       "      <td>2016-11-28 00:00:00</td>\n",
       "    </tr>\n",
       "    <tr>\n",
       "      <th>84544</th>\n",
       "      <td>8410</td>\n",
       "      <td>5</td>\n",
       "      <td>WOODROW</td>\n",
       "      <td>02 TWO FAMILY DWELLINGS</td>\n",
       "      <td>1</td>\n",
       "      <td>7349</td>\n",
       "      <td>78</td>\n",
       "      <td></td>\n",
       "      <td>B9</td>\n",
       "      <td>32 PHEASANT LANE</td>\n",
       "      <td></td>\n",
       "      <td>10309</td>\n",
       "      <td>2</td>\n",
       "      <td>0</td>\n",
       "      <td>2</td>\n",
       "      <td>2498.0</td>\n",
       "      <td>2377.0</td>\n",
       "      <td>1998</td>\n",
       "      <td>1</td>\n",
       "      <td>B9</td>\n",
       "      <td>550000.0</td>\n",
       "      <td>2017-04-21 00:00:00</td>\n",
       "    </tr>\n",
       "    <tr>\n",
       "      <th>84545</th>\n",
       "      <td>8411</td>\n",
       "      <td>5</td>\n",
       "      <td>WOODROW</td>\n",
       "      <td>02 TWO FAMILY DWELLINGS</td>\n",
       "      <td>1</td>\n",
       "      <td>7351</td>\n",
       "      <td>60</td>\n",
       "      <td></td>\n",
       "      <td>B2</td>\n",
       "      <td>49 PITNEY AVENUE</td>\n",
       "      <td></td>\n",
       "      <td>10309</td>\n",
       "      <td>2</td>\n",
       "      <td>0</td>\n",
       "      <td>2</td>\n",
       "      <td>4000.0</td>\n",
       "      <td>1496.0</td>\n",
       "      <td>1925</td>\n",
       "      <td>1</td>\n",
       "      <td>B2</td>\n",
       "      <td>460000.0</td>\n",
       "      <td>2017-07-05 00:00:00</td>\n",
       "    </tr>\n",
       "    <tr>\n",
       "      <th>84546</th>\n",
       "      <td>8412</td>\n",
       "      <td>5</td>\n",
       "      <td>WOODROW</td>\n",
       "      <td>22 STORE BUILDINGS</td>\n",
       "      <td>4</td>\n",
       "      <td>7100</td>\n",
       "      <td>28</td>\n",
       "      <td></td>\n",
       "      <td>K6</td>\n",
       "      <td>2730 ARTHUR KILL ROAD</td>\n",
       "      <td></td>\n",
       "      <td>10309</td>\n",
       "      <td>0</td>\n",
       "      <td>7</td>\n",
       "      <td>7</td>\n",
       "      <td>208033.0</td>\n",
       "      <td>64117.0</td>\n",
       "      <td>2001</td>\n",
       "      <td>4</td>\n",
       "      <td>K6</td>\n",
       "      <td>11693337.0</td>\n",
       "      <td>2016-12-21 00:00:00</td>\n",
       "    </tr>\n",
       "    <tr>\n",
       "      <th>84547</th>\n",
       "      <td>8413</td>\n",
       "      <td>5</td>\n",
       "      <td>WOODROW</td>\n",
       "      <td>35 INDOOR PUBLIC AND CULTURAL FACILITIES</td>\n",
       "      <td>4</td>\n",
       "      <td>7105</td>\n",
       "      <td>679</td>\n",
       "      <td></td>\n",
       "      <td>P9</td>\n",
       "      <td>155 CLAY PIT ROAD</td>\n",
       "      <td></td>\n",
       "      <td>10309</td>\n",
       "      <td>0</td>\n",
       "      <td>1</td>\n",
       "      <td>1</td>\n",
       "      <td>10796.0</td>\n",
       "      <td>2400.0</td>\n",
       "      <td>2006</td>\n",
       "      <td>4</td>\n",
       "      <td>P9</td>\n",
       "      <td>69300.0</td>\n",
       "      <td>2016-10-27 00:00:00</td>\n",
       "    </tr>\n",
       "  </tbody>\n",
       "</table>\n",
       "</div>"
      ],
      "text/plain": [
       "       Unnamed: 0  BOROUGH NEIGHBORHOOD  \\\n",
       "84543        8409        5      WOODROW   \n",
       "84544        8410        5      WOODROW   \n",
       "84545        8411        5      WOODROW   \n",
       "84546        8412        5      WOODROW   \n",
       "84547        8413        5      WOODROW   \n",
       "\n",
       "                           BUILDING CLASS CATEGORY TAX CLASS AT PRESENT  \\\n",
       "84543  02 TWO FAMILY DWELLINGS                                        1   \n",
       "84544  02 TWO FAMILY DWELLINGS                                        1   \n",
       "84545  02 TWO FAMILY DWELLINGS                                        1   \n",
       "84546  22 STORE BUILDINGS                                             4   \n",
       "84547  35 INDOOR PUBLIC AND CULTURAL FACILITIES                       4   \n",
       "\n",
       "       BLOCK  LOT EASE-MENT BUILDING CLASS AT PRESENT                ADDRESS  \\\n",
       "84543   7349   34                                  B9          37 QUAIL LANE   \n",
       "84544   7349   78                                  B9       32 PHEASANT LANE   \n",
       "84545   7351   60                                  B2       49 PITNEY AVENUE   \n",
       "84546   7100   28                                  K6  2730 ARTHUR KILL ROAD   \n",
       "84547   7105  679                                  P9      155 CLAY PIT ROAD   \n",
       "\n",
       "      APARTMENT NUMBER  ZIP CODE  RESIDENTIAL UNITS  COMMERCIAL UNITS  \\\n",
       "84543                      10309                  2                 0   \n",
       "84544                      10309                  2                 0   \n",
       "84545                      10309                  2                 0   \n",
       "84546                      10309                  0                 7   \n",
       "84547                      10309                  0                 1   \n",
       "\n",
       "       TOTAL UNITS  LAND SQUARE FEET  GROSS SQUARE FEET  YEAR BUILT  \\\n",
       "84543            2            2400.0             2575.0        1998   \n",
       "84544            2            2498.0             2377.0        1998   \n",
       "84545            2            4000.0             1496.0        1925   \n",
       "84546            7          208033.0            64117.0        2001   \n",
       "84547            1           10796.0             2400.0        2006   \n",
       "\n",
       "       TAX CLASS AT TIME OF SALE BUILDING CLASS AT TIME OF SALE  SALE PRICE  \\\n",
       "84543                          1                             B9    450000.0   \n",
       "84544                          1                             B9    550000.0   \n",
       "84545                          1                             B2    460000.0   \n",
       "84546                          4                             K6  11693337.0   \n",
       "84547                          4                             P9     69300.0   \n",
       "\n",
       "                 SALE DATE  \n",
       "84543  2016-11-28 00:00:00  \n",
       "84544  2017-04-21 00:00:00  \n",
       "84545  2017-07-05 00:00:00  \n",
       "84546  2016-12-21 00:00:00  \n",
       "84547  2016-10-27 00:00:00  "
      ]
     },
     "execution_count": 2,
     "metadata": {},
     "output_type": "execute_result"
    }
   ],
   "source": [
    "df = pd.read_csv('nyc-rolling-sales.csv', na_values =[' -  '])\n",
    "df.tail()"
   ]
  },
  {
   "cell_type": "markdown",
   "id": "e6b87153",
   "metadata": {},
   "source": [
    "# Check Data Type"
   ]
  },
  {
   "cell_type": "code",
   "execution_count": 3,
   "id": "88326efe",
   "metadata": {},
   "outputs": [
    {
     "name": "stdout",
     "output_type": "stream",
     "text": [
      "<class 'pandas.core.frame.DataFrame'>\n",
      "RangeIndex: 84548 entries, 0 to 84547\n",
      "Data columns (total 22 columns):\n",
      " #   Column                          Non-Null Count  Dtype  \n",
      "---  ------                          --------------  -----  \n",
      " 0   Unnamed: 0                      84548 non-null  int64  \n",
      " 1   BOROUGH                         84548 non-null  int64  \n",
      " 2   NEIGHBORHOOD                    84548 non-null  object \n",
      " 3   BUILDING CLASS CATEGORY         84548 non-null  object \n",
      " 4   TAX CLASS AT PRESENT            84548 non-null  object \n",
      " 5   BLOCK                           84548 non-null  int64  \n",
      " 6   LOT                             84548 non-null  int64  \n",
      " 7   EASE-MENT                       84548 non-null  object \n",
      " 8   BUILDING CLASS AT PRESENT       84548 non-null  object \n",
      " 9   ADDRESS                         84548 non-null  object \n",
      " 10  APARTMENT NUMBER                84548 non-null  object \n",
      " 11  ZIP CODE                        84548 non-null  int64  \n",
      " 12  RESIDENTIAL UNITS               84548 non-null  int64  \n",
      " 13  COMMERCIAL UNITS                84548 non-null  int64  \n",
      " 14  TOTAL UNITS                     84548 non-null  int64  \n",
      " 15  LAND SQUARE FEET                58296 non-null  float64\n",
      " 16  GROSS SQUARE FEET               56936 non-null  float64\n",
      " 17  YEAR BUILT                      84548 non-null  int64  \n",
      " 18  TAX CLASS AT TIME OF SALE       84548 non-null  int64  \n",
      " 19  BUILDING CLASS AT TIME OF SALE  84548 non-null  object \n",
      " 20  SALE PRICE                      69987 non-null  float64\n",
      " 21  SALE DATE                       84548 non-null  object \n",
      "dtypes: float64(3), int64(10), object(9)\n",
      "memory usage: 14.2+ MB\n"
     ]
    }
   ],
   "source": [
    "df.info()"
   ]
  },
  {
   "cell_type": "code",
   "execution_count": 4,
   "id": "e3fb8e31",
   "metadata": {},
   "outputs": [],
   "source": [
    "#change sale date to date time type\n",
    "df['SALE DATE'] = pd.to_datetime(df['SALE DATE'])"
   ]
  },
  {
   "cell_type": "markdown",
   "id": "d27da897",
   "metadata": {},
   "source": [
    "# Check Missing Values"
   ]
  },
  {
   "cell_type": "code",
   "execution_count": 5,
   "id": "7b04dcea",
   "metadata": {},
   "outputs": [
    {
     "data": {
      "text/plain": [
       "Unnamed: 0                            0\n",
       "BOROUGH                               0\n",
       "NEIGHBORHOOD                          0\n",
       "BUILDING CLASS CATEGORY               0\n",
       "TAX CLASS AT PRESENT                  0\n",
       "BLOCK                                 0\n",
       "LOT                                   0\n",
       "EASE-MENT                             0\n",
       "BUILDING CLASS AT PRESENT             0\n",
       "ADDRESS                               0\n",
       "APARTMENT NUMBER                      0\n",
       "ZIP CODE                              0\n",
       "RESIDENTIAL UNITS                     0\n",
       "COMMERCIAL UNITS                      0\n",
       "TOTAL UNITS                           0\n",
       "LAND SQUARE FEET                  26252\n",
       "GROSS SQUARE FEET                 27612\n",
       "YEAR BUILT                            0\n",
       "TAX CLASS AT TIME OF SALE             0\n",
       "BUILDING CLASS AT TIME OF SALE        0\n",
       "SALE PRICE                        14561\n",
       "SALE DATE                             0\n",
       "dtype: int64"
      ]
     },
     "execution_count": 5,
     "metadata": {},
     "output_type": "execute_result"
    }
   ],
   "source": [
    "df.isnull().sum()"
   ]
  },
  {
   "cell_type": "code",
   "execution_count": 6,
   "id": "fa36126d",
   "metadata": {},
   "outputs": [],
   "source": [
    "#fill nan values with median\n",
    "land_square_feet_median = df['LAND SQUARE FEET'].median()\n",
    "gross_square_feet_median = df['GROSS SQUARE FEET'].median()\n",
    "sale_price_median = df['SALE PRICE'].median()\n",
    "df['LAND SQUARE FEET'].fillna(land_square_feet_median, inplace=True)\n",
    "df['GROSS SQUARE FEET'].fillna(gross_square_feet_median, inplace=True)\n",
    "df['SALE PRICE'].fillna(sale_price_median, inplace=True)"
   ]
  },
  {
   "cell_type": "markdown",
   "id": "60b7b852",
   "metadata": {},
   "source": [
    "# Drop Unnecessary Column"
   ]
  },
  {
   "cell_type": "code",
   "execution_count": 7,
   "id": "2f49ec78",
   "metadata": {},
   "outputs": [
    {
     "data": {
      "text/html": [
       "<div>\n",
       "<style scoped>\n",
       "    .dataframe tbody tr th:only-of-type {\n",
       "        vertical-align: middle;\n",
       "    }\n",
       "\n",
       "    .dataframe tbody tr th {\n",
       "        vertical-align: top;\n",
       "    }\n",
       "\n",
       "    .dataframe thead th {\n",
       "        text-align: right;\n",
       "    }\n",
       "</style>\n",
       "<table border=\"1\" class=\"dataframe\">\n",
       "  <thead>\n",
       "    <tr style=\"text-align: right;\">\n",
       "      <th></th>\n",
       "      <th>BOROUGH</th>\n",
       "      <th>NEIGHBORHOOD</th>\n",
       "      <th>BUILDING CLASS CATEGORY</th>\n",
       "      <th>TAX CLASS AT PRESENT</th>\n",
       "      <th>BLOCK</th>\n",
       "      <th>LOT</th>\n",
       "      <th>EASE-MENT</th>\n",
       "      <th>BUILDING CLASS AT PRESENT</th>\n",
       "      <th>ADDRESS</th>\n",
       "      <th>APARTMENT NUMBER</th>\n",
       "      <th>ZIP CODE</th>\n",
       "      <th>RESIDENTIAL UNITS</th>\n",
       "      <th>COMMERCIAL UNITS</th>\n",
       "      <th>TOTAL UNITS</th>\n",
       "      <th>LAND SQUARE FEET</th>\n",
       "      <th>GROSS SQUARE FEET</th>\n",
       "      <th>YEAR BUILT</th>\n",
       "      <th>TAX CLASS AT TIME OF SALE</th>\n",
       "      <th>BUILDING CLASS AT TIME OF SALE</th>\n",
       "      <th>SALE PRICE</th>\n",
       "      <th>SALE DATE</th>\n",
       "    </tr>\n",
       "  </thead>\n",
       "  <tbody>\n",
       "    <tr>\n",
       "      <th>84543</th>\n",
       "      <td>5</td>\n",
       "      <td>WOODROW</td>\n",
       "      <td>02 TWO FAMILY DWELLINGS</td>\n",
       "      <td>1</td>\n",
       "      <td>7349</td>\n",
       "      <td>34</td>\n",
       "      <td></td>\n",
       "      <td>B9</td>\n",
       "      <td>37 QUAIL LANE</td>\n",
       "      <td></td>\n",
       "      <td>10309</td>\n",
       "      <td>2</td>\n",
       "      <td>0</td>\n",
       "      <td>2</td>\n",
       "      <td>2400.0</td>\n",
       "      <td>2575.0</td>\n",
       "      <td>1998</td>\n",
       "      <td>1</td>\n",
       "      <td>B9</td>\n",
       "      <td>450000.0</td>\n",
       "      <td>2016-11-28</td>\n",
       "    </tr>\n",
       "    <tr>\n",
       "      <th>84544</th>\n",
       "      <td>5</td>\n",
       "      <td>WOODROW</td>\n",
       "      <td>02 TWO FAMILY DWELLINGS</td>\n",
       "      <td>1</td>\n",
       "      <td>7349</td>\n",
       "      <td>78</td>\n",
       "      <td></td>\n",
       "      <td>B9</td>\n",
       "      <td>32 PHEASANT LANE</td>\n",
       "      <td></td>\n",
       "      <td>10309</td>\n",
       "      <td>2</td>\n",
       "      <td>0</td>\n",
       "      <td>2</td>\n",
       "      <td>2498.0</td>\n",
       "      <td>2377.0</td>\n",
       "      <td>1998</td>\n",
       "      <td>1</td>\n",
       "      <td>B9</td>\n",
       "      <td>550000.0</td>\n",
       "      <td>2017-04-21</td>\n",
       "    </tr>\n",
       "    <tr>\n",
       "      <th>84545</th>\n",
       "      <td>5</td>\n",
       "      <td>WOODROW</td>\n",
       "      <td>02 TWO FAMILY DWELLINGS</td>\n",
       "      <td>1</td>\n",
       "      <td>7351</td>\n",
       "      <td>60</td>\n",
       "      <td></td>\n",
       "      <td>B2</td>\n",
       "      <td>49 PITNEY AVENUE</td>\n",
       "      <td></td>\n",
       "      <td>10309</td>\n",
       "      <td>2</td>\n",
       "      <td>0</td>\n",
       "      <td>2</td>\n",
       "      <td>4000.0</td>\n",
       "      <td>1496.0</td>\n",
       "      <td>1925</td>\n",
       "      <td>1</td>\n",
       "      <td>B2</td>\n",
       "      <td>460000.0</td>\n",
       "      <td>2017-07-05</td>\n",
       "    </tr>\n",
       "    <tr>\n",
       "      <th>84546</th>\n",
       "      <td>5</td>\n",
       "      <td>WOODROW</td>\n",
       "      <td>22 STORE BUILDINGS</td>\n",
       "      <td>4</td>\n",
       "      <td>7100</td>\n",
       "      <td>28</td>\n",
       "      <td></td>\n",
       "      <td>K6</td>\n",
       "      <td>2730 ARTHUR KILL ROAD</td>\n",
       "      <td></td>\n",
       "      <td>10309</td>\n",
       "      <td>0</td>\n",
       "      <td>7</td>\n",
       "      <td>7</td>\n",
       "      <td>208033.0</td>\n",
       "      <td>64117.0</td>\n",
       "      <td>2001</td>\n",
       "      <td>4</td>\n",
       "      <td>K6</td>\n",
       "      <td>11693337.0</td>\n",
       "      <td>2016-12-21</td>\n",
       "    </tr>\n",
       "    <tr>\n",
       "      <th>84547</th>\n",
       "      <td>5</td>\n",
       "      <td>WOODROW</td>\n",
       "      <td>35 INDOOR PUBLIC AND CULTURAL FACILITIES</td>\n",
       "      <td>4</td>\n",
       "      <td>7105</td>\n",
       "      <td>679</td>\n",
       "      <td></td>\n",
       "      <td>P9</td>\n",
       "      <td>155 CLAY PIT ROAD</td>\n",
       "      <td></td>\n",
       "      <td>10309</td>\n",
       "      <td>0</td>\n",
       "      <td>1</td>\n",
       "      <td>1</td>\n",
       "      <td>10796.0</td>\n",
       "      <td>2400.0</td>\n",
       "      <td>2006</td>\n",
       "      <td>4</td>\n",
       "      <td>P9</td>\n",
       "      <td>69300.0</td>\n",
       "      <td>2016-10-27</td>\n",
       "    </tr>\n",
       "  </tbody>\n",
       "</table>\n",
       "</div>"
      ],
      "text/plain": [
       "       BOROUGH NEIGHBORHOOD                      BUILDING CLASS CATEGORY  \\\n",
       "84543        5      WOODROW  02 TWO FAMILY DWELLINGS                       \n",
       "84544        5      WOODROW  02 TWO FAMILY DWELLINGS                       \n",
       "84545        5      WOODROW  02 TWO FAMILY DWELLINGS                       \n",
       "84546        5      WOODROW  22 STORE BUILDINGS                            \n",
       "84547        5      WOODROW  35 INDOOR PUBLIC AND CULTURAL FACILITIES      \n",
       "\n",
       "      TAX CLASS AT PRESENT  BLOCK  LOT EASE-MENT BUILDING CLASS AT PRESENT  \\\n",
       "84543                    1   7349   34                                  B9   \n",
       "84544                    1   7349   78                                  B9   \n",
       "84545                    1   7351   60                                  B2   \n",
       "84546                    4   7100   28                                  K6   \n",
       "84547                    4   7105  679                                  P9   \n",
       "\n",
       "                     ADDRESS APARTMENT NUMBER  ZIP CODE  RESIDENTIAL UNITS  \\\n",
       "84543          37 QUAIL LANE                      10309                  2   \n",
       "84544       32 PHEASANT LANE                      10309                  2   \n",
       "84545       49 PITNEY AVENUE                      10309                  2   \n",
       "84546  2730 ARTHUR KILL ROAD                      10309                  0   \n",
       "84547      155 CLAY PIT ROAD                      10309                  0   \n",
       "\n",
       "       COMMERCIAL UNITS  TOTAL UNITS  LAND SQUARE FEET  GROSS SQUARE FEET  \\\n",
       "84543                 0            2            2400.0             2575.0   \n",
       "84544                 0            2            2498.0             2377.0   \n",
       "84545                 0            2            4000.0             1496.0   \n",
       "84546                 7            7          208033.0            64117.0   \n",
       "84547                 1            1           10796.0             2400.0   \n",
       "\n",
       "       YEAR BUILT  TAX CLASS AT TIME OF SALE BUILDING CLASS AT TIME OF SALE  \\\n",
       "84543        1998                          1                             B9   \n",
       "84544        1998                          1                             B9   \n",
       "84545        1925                          1                             B2   \n",
       "84546        2001                          4                             K6   \n",
       "84547        2006                          4                             P9   \n",
       "\n",
       "       SALE PRICE  SALE DATE  \n",
       "84543    450000.0 2016-11-28  \n",
       "84544    550000.0 2017-04-21  \n",
       "84545    460000.0 2017-07-05  \n",
       "84546  11693337.0 2016-12-21  \n",
       "84547     69300.0 2016-10-27  "
      ]
     },
     "execution_count": 7,
     "metadata": {},
     "output_type": "execute_result"
    }
   ],
   "source": [
    "df.drop(['Unnamed: 0'], axis=1, inplace=True)\n",
    "df.tail()"
   ]
  },
  {
   "cell_type": "code",
   "execution_count": 8,
   "id": "2f17d3d6",
   "metadata": {},
   "outputs": [
    {
     "data": {
      "text/html": [
       "<div>\n",
       "<style scoped>\n",
       "    .dataframe tbody tr th:only-of-type {\n",
       "        vertical-align: middle;\n",
       "    }\n",
       "\n",
       "    .dataframe tbody tr th {\n",
       "        vertical-align: top;\n",
       "    }\n",
       "\n",
       "    .dataframe thead th {\n",
       "        text-align: right;\n",
       "    }\n",
       "</style>\n",
       "<table border=\"1\" class=\"dataframe\">\n",
       "  <thead>\n",
       "    <tr style=\"text-align: right;\">\n",
       "      <th></th>\n",
       "      <th>BOROUGH</th>\n",
       "      <th>SALE PRICE</th>\n",
       "    </tr>\n",
       "  </thead>\n",
       "  <tbody>\n",
       "    <tr>\n",
       "      <th>0</th>\n",
       "      <td>1</td>\n",
       "      <td>5.024619e+10</td>\n",
       "    </tr>\n",
       "    <tr>\n",
       "      <th>1</th>\n",
       "      <td>3</td>\n",
       "      <td>2.006694e+10</td>\n",
       "    </tr>\n",
       "    <tr>\n",
       "      <th>2</th>\n",
       "      <td>4</td>\n",
       "      <td>1.804100e+10</td>\n",
       "    </tr>\n",
       "    <tr>\n",
       "      <th>3</th>\n",
       "      <td>5</td>\n",
       "      <td>4.538281e+09</td>\n",
       "    </tr>\n",
       "    <tr>\n",
       "      <th>4</th>\n",
       "      <td>2</td>\n",
       "      <td>4.160275e+09</td>\n",
       "    </tr>\n",
       "  </tbody>\n",
       "</table>\n",
       "</div>"
      ],
      "text/plain": [
       "   BOROUGH    SALE PRICE\n",
       "0        1  5.024619e+10\n",
       "1        3  2.006694e+10\n",
       "2        4  1.804100e+10\n",
       "3        5  4.538281e+09\n",
       "4        2  4.160275e+09"
      ]
     },
     "execution_count": 8,
     "metadata": {},
     "output_type": "execute_result"
    }
   ],
   "source": [
    "grouped = df.groupby(['BOROUGH']).agg({'SALE PRICE':'sum'}).sort_values(by='SALE PRICE',\n",
    "                                                                              ascending=False).reset_index()\n",
    "grouped"
   ]
  },
  {
   "cell_type": "markdown",
   "id": "2190b1fa",
   "metadata": {},
   "source": [
    "Dari groupby diatas, didapatkan bahwa borough dengan sale price tertinggi adalah Manhattan. Maka dari itu, akan dilakukan perhitungan criteria dari borough Manhattan."
   ]
  },
  {
   "cell_type": "markdown",
   "id": "996ecb81",
   "metadata": {},
   "source": [
    "# A. Mean\n",
    "\n",
    "**Berapakah rata-rata SALE PRICE di Manhattan?**"
   ]
  },
  {
   "cell_type": "code",
   "execution_count": 9,
   "id": "bbe8758a",
   "metadata": {},
   "outputs": [
    {
     "data": {
      "text/plain": [
       "2744793.4228668194"
      ]
     },
     "execution_count": 9,
     "metadata": {},
     "output_type": "execute_result"
    }
   ],
   "source": [
    "mean_sale_price = df[df['BOROUGH']==1]['SALE PRICE'].mean()\n",
    "mean_sale_price"
   ]
  },
  {
   "cell_type": "markdown",
   "id": "7fdfddc1",
   "metadata": {},
   "source": [
    "Rata-rata dari SALE PRICE di Manhattan adalah sebesar 2744793.42"
   ]
  },
  {
   "cell_type": "markdown",
   "id": "0671e0d3",
   "metadata": {},
   "source": [
    "# B. Median\n",
    "\n",
    "**Berapakah median dari SALE PRICE Manhattan?**"
   ]
  },
  {
   "cell_type": "code",
   "execution_count": 10,
   "id": "1c3a688f",
   "metadata": {},
   "outputs": [
    {
     "data": {
      "text/plain": [
       "835500.0"
      ]
     },
     "execution_count": 10,
     "metadata": {},
     "output_type": "execute_result"
    }
   ],
   "source": [
    "median_sale_price = df[df['BOROUGH']==1]['SALE PRICE'].median()\n",
    "median_sale_price"
   ]
  },
  {
   "cell_type": "markdown",
   "id": "a97df213",
   "metadata": {},
   "source": [
    "Median sale price di Manhattan adalah sebesar 835500"
   ]
  },
  {
   "cell_type": "markdown",
   "id": "7335c863",
   "metadata": {},
   "source": [
    "# C. Modus\n",
    "\n",
    "**Berapakah modus dari SALE PRICE di Manhattan?**"
   ]
  },
  {
   "cell_type": "code",
   "execution_count": 11,
   "id": "0b0bf58e",
   "metadata": {},
   "outputs": [
    {
     "data": {
      "text/plain": [
       "0    530000.0\n",
       "Name: SALE PRICE, dtype: float64"
      ]
     },
     "execution_count": 11,
     "metadata": {},
     "output_type": "execute_result"
    }
   ],
   "source": [
    "df[df['BOROUGH']==1]['SALE PRICE'].mode()"
   ]
  },
  {
   "cell_type": "markdown",
   "id": "3d037688",
   "metadata": {},
   "source": [
    "Modus sale price di Manhattan adalah sebesar 530000"
   ]
  },
  {
   "cell_type": "markdown",
   "id": "1218f86c",
   "metadata": {},
   "source": [
    "# D. Range\n",
    "\n",
    "**Berapakah range dari SALE PRICE di Manhattan?**"
   ]
  },
  {
   "cell_type": "code",
   "execution_count": 12,
   "id": "0be2024c",
   "metadata": {},
   "outputs": [
    {
     "name": "stdout",
     "output_type": "stream",
     "text": [
      "Max Sale Price in Manhattan : 2210000000.0\n",
      "Min Sale Price in Manhattan : 1.0\n",
      "Range Sale Price in Manhattan : 2209999999.0\n"
     ]
    }
   ],
   "source": [
    "max_sale_price = df[df['BOROUGH']==1]['SALE PRICE'].max()\n",
    "min_sale_price = df[df['BOROUGH']==1]['SALE PRICE'].min()\n",
    "range_sale_price = max_sale_price - min_sale_price\n",
    "\n",
    "print('Max Sale Price in Manhattan :', max_sale_price)\n",
    "print('Min Sale Price in Manhattan :', min_sale_price)\n",
    "print('Range Sale Price in Manhattan :', range_sale_price)"
   ]
  },
  {
   "cell_type": "markdown",
   "id": "69137d84",
   "metadata": {},
   "source": [
    "Range Sale Price di Manhattan dapat dibilang signifikan. Hal ini dapat disebabkan oleh luas tanah dan juga jenis properti yang dijual di Manhattan."
   ]
  },
  {
   "cell_type": "markdown",
   "id": "fc19fea7",
   "metadata": {},
   "source": [
    "# E. Variance\n",
    "\n",
    "**Berapakah varians dari SALE PRICE di Manhattan?**"
   ]
  },
  {
   "cell_type": "code",
   "execution_count": 13,
   "id": "6eda9f39",
   "metadata": {},
   "outputs": [
    {
     "data": {
      "text/plain": [
       "459341183405697.3"
      ]
     },
     "execution_count": 13,
     "metadata": {},
     "output_type": "execute_result"
    }
   ],
   "source": [
    "df[df['BOROUGH']==1]['SALE PRICE'].var()"
   ]
  },
  {
   "cell_type": "markdown",
   "id": "e91f2752",
   "metadata": {},
   "source": [
    "Variance sale price di Manhattan adalah sebesar 459341183405697.3. Hasil varians yang didapatkan lebih besar dari mean karena adanya nilai range yang cukup signifikan."
   ]
  },
  {
   "cell_type": "markdown",
   "id": "b499cba3",
   "metadata": {},
   "source": [
    "# F. Standard Deviation\n",
    "\n",
    "**Berapakah standard deviation dari SALE PRICE di Manhattan?**"
   ]
  },
  {
   "cell_type": "code",
   "execution_count": 14,
   "id": "28701d99",
   "metadata": {},
   "outputs": [
    {
     "data": {
      "text/plain": [
       "21432246.345301684"
      ]
     },
     "execution_count": 14,
     "metadata": {},
     "output_type": "execute_result"
    }
   ],
   "source": [
    "stdev_sale_price = df[df['BOROUGH']==1]['SALE PRICE'].std()\n",
    "stdev_sale_price"
   ]
  },
  {
   "cell_type": "markdown",
   "id": "466b3597",
   "metadata": {},
   "source": [
    "Standard deviation dari sale price di manhattan adalah sebesar 21432246.34"
   ]
  },
  {
   "cell_type": "markdown",
   "id": "41eb4043",
   "metadata": {},
   "source": [
    "# G. Probability Distribution\n",
    "\n",
    "**Bagaimana distribusi dari SALE PRICE di Manhattan?**"
   ]
  },
  {
   "cell_type": "code",
   "execution_count": 15,
   "id": "d2a4e497",
   "metadata": {},
   "outputs": [],
   "source": [
    "from statsmodels.stats.diagnostic import normal_ad"
   ]
  },
  {
   "cell_type": "code",
   "execution_count": 16,
   "id": "9839ed25",
   "metadata": {},
   "outputs": [
    {
     "name": "stderr",
     "output_type": "stream",
     "text": [
      "C:\\Users\\andre\\anaconda3\\Lib\\site-packages\\statsmodels\\stats\\_adnorm.py:67: RuntimeWarning: divide by zero encountered in log1p\n",
      "  s = np.sum((2 * i[sl1] - 1.0) / nobs * (np.log(z) + np.log1p(-z[sl2])),\n"
     ]
    },
    {
     "data": {
      "text/plain": [
       "0.0"
      ]
     },
     "execution_count": 16,
     "metadata": {},
     "output_type": "execute_result"
    }
   ],
   "source": [
    "p_value = normal_ad(df[df['BOROUGH']==1]['SALE PRICE'])[1]\n",
    "p_value"
   ]
  },
  {
   "cell_type": "code",
   "execution_count": 17,
   "id": "874eded4",
   "metadata": {},
   "outputs": [
    {
     "name": "stderr",
     "output_type": "stream",
     "text": [
      "C:\\Users\\andre\\AppData\\Local\\Temp\\ipykernel_5396\\2774207948.py:3: UserWarning: \n",
      "\n",
      "`distplot` is a deprecated function and will be removed in seaborn v0.14.0.\n",
      "\n",
      "Please adapt your code to use either `displot` (a figure-level function with\n",
      "similar flexibility) or `histplot` (an axes-level function for histograms).\n",
      "\n",
      "For a guide to updating your code to use the new functions, please see\n",
      "https://gist.github.com/mwaskom/de44147ed2974457ad6372750bbe5751\n",
      "\n",
      "  sns.distplot(df[df['BOROUGH']==1]['SALE PRICE'])\n"
     ]
    },
    {
     "data": {
      "image/png": "[encoded data removed]",
      "text/plain": [
       "<Figure size 600x300 with 1 Axes>"
      ]
     },
     "metadata": {},
     "output_type": "display_data"
    }
   ],
   "source": [
    "plt.subplots(figsize=(6,3))\n",
    "plt.title('Distribution of Sale Price in Manhattan', fontsize=12)\n",
    "sns.distplot(df[df['BOROUGH']==1]['SALE PRICE'])\n",
    "plt.show()"
   ]
  },
  {
   "cell_type": "markdown",
   "id": "a121ec13",
   "metadata": {},
   "source": [
    "P value yang didapatkan diatas lebih kecil dari 0.05, karena itu sale price di Manhattan tidak normally distributed. Selain itu, distribusi sale price di Manhattan adalah right skewed."
   ]
  },
  {
   "cell_type": "markdown",
   "id": "54bf378b",
   "metadata": {},
   "source": [
    "# H. Confidence Intervals\n",
    "\n",
    "**Bagaimana confidence interval dari SALE PRICE di Manhattan?**"
   ]
  },
  {
   "cell_type": "code",
   "execution_count": 18,
   "id": "54b15ccf",
   "metadata": {},
   "outputs": [],
   "source": [
    "n = len(df[df['BOROUGH']==1])\n",
    "z = 1.96"
   ]
  },
  {
   "cell_type": "code",
   "execution_count": 19,
   "id": "d9646701",
   "metadata": {},
   "outputs": [
    {
     "data": {
      "text/plain": [
       "(3055268.708152911, 2434318.1375807277)"
      ]
     },
     "execution_count": 19,
     "metadata": {},
     "output_type": "execute_result"
    }
   ],
   "source": [
    "upper_bound = mean_sale_price + (z*(stdev_sale_price/np.sqrt(n)))\n",
    "lower_bound = mean_sale_price - (z*(stdev_sale_price/np.sqrt(n)))\n",
    "upper_bound, lower_bound"
   ]
  },
  {
   "cell_type": "markdown",
   "id": "9b69a126",
   "metadata": {},
   "source": [
    "Rata-rata dari sale price di Manhattan berada di rentang harga 2434318.14 hingga 3055268.71 dengan confidence 95%"
   ]
  },
  {
   "cell_type": "markdown",
   "id": "519b5365",
   "metadata": {},
   "source": [
    "# I. Hypothesis Testing\n",
    "\n",
    "**Apakah distribusi SALE PRICE dari Borough Manhattan sama dengan borough lainnya?**\n",
    "\n",
    "$H0$ : Distribusi sale price Manhattan sama dengan distribusi borough lainnya</br>\n",
    "$H1$ : Distribusi sale price Manhattan tidak sama dengan distribusi borough lainnya"
   ]
  },
  {
   "cell_type": "code",
   "execution_count": 20,
   "id": "b158b5bd",
   "metadata": {},
   "outputs": [],
   "source": [
    "sale_price_borough_1 = df[df['BOROUGH']==1]['SALE PRICE'].sample(1000, random_state=1).to_list()\n",
    "sale_price_borough_2 = df[df['BOROUGH']==2]['SALE PRICE'].sample(1000, random_state=1).to_list()\n",
    "sale_price_borough_3 = df[df['BOROUGH']==3]['SALE PRICE'].sample(1000, random_state=1).to_list()\n",
    "sale_price_borough_4 = df[df['BOROUGH']==4]['SALE PRICE'].sample(1000, random_state=1).to_list()\n",
    "sale_price_borough_5 = df[df['BOROUGH']==5]['SALE PRICE'].sample(1000, random_state=1).to_list()"
   ]
  },
  {
   "cell_type": "code",
   "execution_count": 21,
   "id": "24111c65",
   "metadata": {},
   "outputs": [
    {
     "name": "stdout",
     "output_type": "stream",
     "text": [
      "911.0624011429168 6.680111643031408e-196\n"
     ]
    }
   ],
   "source": [
    "stat, p = friedmanchisquare(sale_price_borough_1, sale_price_borough_2, sale_price_borough_3, sale_price_borough_4, sale_price_borough_5)\n",
    "print(stat, p)"
   ]
  },
  {
   "cell_type": "code",
   "execution_count": 22,
   "id": "cef00d60",
   "metadata": {},
   "outputs": [
    {
     "name": "stdout",
     "output_type": "stream",
     "text": [
      "Distribusi sale price Manhattan tidak sama dengan distribusi borough lainnya\n"
     ]
    }
   ],
   "source": [
    "if p>0.05: print(\"Distribusi sale price Manhattan sama dengan distribusi borough lainnya\")\n",
    "else: print('Distribusi sale price Manhattan tidak sama dengan distribusi borough lainnya')"
   ]
  },
  {
   "cell_type": "markdown",
   "id": "79ea3d9c",
   "metadata": {},
   "source": [
    "Karena p lebih kecil dari 0.05, maka H0 ditolak. Maka dari itu, Distribusi sale price Manhattan tidak sama dengan distribusi borough lainnya"
   ]
  }
 ],
 "metadata": {
  "kernelspec": {
   "display_name": "Python 3 (ipykernel)",
   "language": "python",
   "name": "python3"
  },
  "language_info": {
   "codemirror_mode": {
    "name": "ipython",
    "version": 3
   },
   "file_extension": ".py",
   "mimetype": "text/x-python",
   "name": "python",
   "nbconvert_exporter": "python",
   "pygments_lexer": "ipython3",
   "version": "3.11.4"
  }
 },
 "nbformat": 4,
 "nbformat_minor": 5
}
